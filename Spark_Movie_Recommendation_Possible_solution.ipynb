{
 "cells": [
  {
   "cell_type": "markdown",
   "metadata": {},
   "source": [
    "In this notebook, we will use an Alternating Least Squares (ALS) algorithm with Spark APIs to predict the ratings for the movies in [MovieLens small dataset](https://grouplens.org/datasets/movielens/latest/)"
   ]
  },
  {
   "cell_type": "code",
   "execution_count": 1,
   "metadata": {
    "collapsed": true
   },
   "outputs": [],
   "source": [
    "import numpy as np\n",
    "import pandas as pd\n",
    "import seaborn as sns\n",
    "import matplotlib.pyplot as plt\n",
    "import math\n",
    "%matplotlib inline"
   ]
  },
  {
   "cell_type": "code",
   "execution_count": 2,
   "metadata": {
    "collapsed": true
   },
   "outputs": [],
   "source": [
    "import os\n",
    "import findspark\n",
    "os.environ[\"PYSPARK_PYTHON\"] = \"python3\"\n",
    "findspark.init(\"../../../spark-2.2.1-bin-hadoop2.7\",)"
   ]
  },
  {
   "cell_type": "markdown",
   "metadata": {},
   "source": [
    "## Data ETL and Data Exploration"
   ]
  },
  {
   "cell_type": "code",
   "execution_count": 3,
   "metadata": {
    "collapsed": true
   },
   "outputs": [],
   "source": [
    "from pyspark.sql import SparkSession"
   ]
  },
  {
   "cell_type": "code",
   "execution_count": 4,
   "metadata": {
    "collapsed": true
   },
   "outputs": [],
   "source": [
    "spark = (\n",
    "    SparkSession.builder\n",
    "        .master(\"local[*]\")\n",
    "        .appName(\"Spark Movie Recommendation Project\")\n",
    "        .getOrCreate()\n",
    ")\n",
    "sc = spark.sparkContext"
   ]
  },
  {
   "cell_type": "code",
   "execution_count": 5,
   "metadata": {
    "collapsed": true
   },
   "outputs": [],
   "source": [
    "movies = spark.read.load(\"ml-latest-small/movies.csv\", format='csv', header = True)\n",
    "ratings = spark.read.load(\"ml-latest-small/ratings.csv\", format='csv', header = True)\n",
    "links = spark.read.load(\"ml-latest-small/links.csv\", format='csv', header = True)\n",
    "tags = spark.read.load(\"ml-latest-small/tags.csv\", format='csv', header = True)"
   ]
  },
  {
   "cell_type": "code",
   "execution_count": 6,
   "metadata": {},
   "outputs": [
    {
     "name": "stdout",
     "output_type": "stream",
     "text": [
      "+-------+--------------------+--------------------+\n",
      "|movieId|               title|              genres|\n",
      "+-------+--------------------+--------------------+\n",
      "|      1|    Toy Story (1995)|Adventure|Animati...|\n",
      "|      2|      Jumanji (1995)|Adventure|Childre...|\n",
      "|      3|Grumpier Old Men ...|      Comedy|Romance|\n",
      "|      4|Waiting to Exhale...|Comedy|Drama|Romance|\n",
      "|      5|Father of the Bri...|              Comedy|\n",
      "+-------+--------------------+--------------------+\n",
      "only showing top 5 rows\n",
      "\n"
     ]
    }
   ],
   "source": [
    "movies.show(5)"
   ]
  },
  {
   "cell_type": "code",
   "execution_count": 7,
   "metadata": {},
   "outputs": [
    {
     "name": "stdout",
     "output_type": "stream",
     "text": [
      "+------+-------+------+----------+\n",
      "|userId|movieId|rating| timestamp|\n",
      "+------+-------+------+----------+\n",
      "|     1|     31|   2.5|1260759144|\n",
      "|     1|   1029|   3.0|1260759179|\n",
      "|     1|   1061|   3.0|1260759182|\n",
      "|     1|   1129|   2.0|1260759185|\n",
      "|     1|   1172|   4.0|1260759205|\n",
      "+------+-------+------+----------+\n",
      "only showing top 5 rows\n",
      "\n"
     ]
    }
   ],
   "source": [
    "ratings.show(5)"
   ]
  },
  {
   "cell_type": "code",
   "execution_count": 8,
   "metadata": {},
   "outputs": [
    {
     "name": "stdout",
     "output_type": "stream",
     "text": [
      "Distinct values of ratings:\n",
      "[u'0.5', u'1.0', u'1.5', u'2.0', u'2.5', u'3.0', u'3.5', u'4.0', u'4.5', u'5.0']\n"
     ]
    }
   ],
   "source": [
    "print('Distinct values of ratings:')\n",
    "print sorted(ratings.select('rating').distinct().rdd.map(lambda r: r[0]).collect())"
   ]
  },
  {
   "cell_type": "code",
   "execution_count": 9,
   "metadata": {},
   "outputs": [
    {
     "name": "stdout",
     "output_type": "stream",
     "text": [
      "For the users that rated movies and the movies that were rated:\n",
      "Minimum number of ratings per user is 20\n",
      "Minimum number of ratings per movie is 1\n"
     ]
    }
   ],
   "source": [
    "tmp1 = ratings.groupBy(\"userID\").count().toPandas()['count'].min()\n",
    "tmp2 = ratings.groupBy(\"movieId\").count().toPandas()['count'].min()\n",
    "print('For the users that rated movies and the movies that were rated:')\n",
    "print('Minimum number of ratings per user is {}'.format(tmp1))\n",
    "print('Minimum number of ratings per movie is {}'.format(tmp2))"
   ]
  },
  {
   "cell_type": "code",
   "execution_count": 10,
   "metadata": {},
   "outputs": [
    {
     "name": "stdout",
     "output_type": "stream",
     "text": [
      "3063 out of 9066 movies are rated by only one user\n"
     ]
    }
   ],
   "source": [
    "tmp1 = sum(ratings.groupBy(\"movieId\").count().toPandas()['count'] == 1)\n",
    "tmp2 = ratings.select('movieId').distinct().count()\n",
    "print('{} out of {} movies are rated by only one user'.format(tmp1, tmp2))"
   ]
  },
  {
   "cell_type": "code",
   "execution_count": 11,
   "metadata": {},
   "outputs": [
    {
     "name": "stdout",
     "output_type": "stream",
     "text": [
      "+-------+-------+------+\n",
      "|movieId| imdbId|tmdbId|\n",
      "+-------+-------+------+\n",
      "|      1|0114709|   862|\n",
      "|      2|0113497|  8844|\n",
      "|      3|0113228| 15602|\n",
      "|      4|0114885| 31357|\n",
      "|      5|0113041| 11862|\n",
      "+-------+-------+------+\n",
      "only showing top 5 rows\n",
      "\n"
     ]
    }
   ],
   "source": [
    "links.show(5)"
   ]
  },
  {
   "cell_type": "code",
   "execution_count": 12,
   "metadata": {},
   "outputs": [
    {
     "name": "stdout",
     "output_type": "stream",
     "text": [
      "+------+-------+--------------------+----------+\n",
      "|userId|movieId|                 tag| timestamp|\n",
      "+------+-------+--------------------+----------+\n",
      "|    15|    339|sandra 'boring' b...|1138537770|\n",
      "|    15|   1955|             dentist|1193435061|\n",
      "|    15|   7478|            Cambodia|1170560997|\n",
      "|    15|  32892|             Russian|1170626366|\n",
      "|    15|  34162|         forgettable|1141391765|\n",
      "+------+-------+--------------------+----------+\n",
      "only showing top 5 rows\n",
      "\n"
     ]
    }
   ],
   "source": [
    "tags.show(5)"
   ]
  },
  {
   "cell_type": "markdown",
   "metadata": {},
   "source": [
    "### Q1: The number of Users"
   ]
  },
  {
   "cell_type": "code",
   "execution_count": 13,
   "metadata": {},
   "outputs": [
    {
     "data": {
      "text/plain": [
       "671"
      ]
     },
     "execution_count": 13,
     "metadata": {},
     "output_type": "execute_result"
    }
   ],
   "source": [
    "ratings.select('userId').union(tags.select('userId')).distinct().count()"
   ]
  },
  {
   "cell_type": "markdown",
   "metadata": {},
   "source": [
    "### Q2: The number of Movies"
   ]
  },
  {
   "cell_type": "code",
   "execution_count": 14,
   "metadata": {},
   "outputs": [
    {
     "data": {
      "text/plain": [
       "9125"
      ]
     },
     "execution_count": 14,
     "metadata": {},
     "output_type": "execute_result"
    }
   ],
   "source": [
    "ratings.select('movieId').union(tags.select('movieId')).distinct().count()"
   ]
  },
  {
   "cell_type": "markdown",
   "metadata": {},
   "source": [
    "### Q3:  How many movies are rated by users? List movies not rated before"
   ]
  },
  {
   "cell_type": "code",
   "execution_count": 15,
   "metadata": {},
   "outputs": [
    {
     "data": {
      "text/plain": [
       "9066"
      ]
     },
     "execution_count": 15,
     "metadata": {},
     "output_type": "execute_result"
    }
   ],
   "source": [
    "num_movies_rated = ratings.select('movieId').distinct().count()\n",
    "num_movies_rated"
   ]
  },
  {
   "cell_type": "code",
   "execution_count": 16,
   "metadata": {},
   "outputs": [
    {
     "name": "stdout",
     "output_type": "stream",
     "text": [
      "+-------+\n",
      "|movieId|\n",
      "+-------+\n",
      "| 144172|\n",
      "|  94969|\n",
      "| 132547|\n",
      "|   7335|\n",
      "| 110871|\n",
      "|   5984|\n",
      "| 131796|\n",
      "| 132800|\n",
      "| 128235|\n",
      "|  39421|\n",
      "|  82313|\n",
      "| 111251|\n",
      "|  42217|\n",
      "| 132549|\n",
      "|   8767|\n",
      "| 161582|\n",
      "| 155064|\n",
      "| 111249|\n",
      "|  48711|\n",
      "| 132458|\n",
      "+-------+\n",
      "only showing top 20 rows\n",
      "\n"
     ]
    }
   ],
   "source": [
    "all_movies = ratings.select('movieId').union(tags.select('movieId'))\n",
    "rated = ratings.select('movieId')\n",
    "not_rated = all_movies.subtract(rated)\n",
    "not_rated.distinct().show()"
   ]
  },
  {
   "cell_type": "markdown",
   "metadata": {},
   "source": [
    "### Q4: List Movie Genres"
   ]
  },
  {
   "cell_type": "code",
   "execution_count": 17,
   "metadata": {},
   "outputs": [
    {
     "name": "stdout",
     "output_type": "stream",
     "text": [
      "+--------------------+\n",
      "|              genres|\n",
      "+--------------------+\n",
      "|Comedy|Horror|Thr...|\n",
      "|Adventure|Sci-Fi|...|\n",
      "|Action|Adventure|...|\n",
      "| Action|Drama|Horror|\n",
      "|Comedy|Drama|Horr...|\n",
      "|Action|Animation|...|\n",
      "|Animation|Childre...|\n",
      "|Action|Adventure|...|\n",
      "| Adventure|Animation|\n",
      "|    Adventure|Sci-Fi|\n",
      "|Documentary|Music...|\n",
      "|Adventure|Childre...|\n",
      "|  Documentary|Sci-Fi|\n",
      "| Musical|Romance|War|\n",
      "|Action|Adventure|...|\n",
      "|Adventure|Childre...|\n",
      "|Crime|Drama|Fanta...|\n",
      "|Comedy|Mystery|Th...|\n",
      "|   Adventure|Fantasy|\n",
      "|Action|Animation|...|\n",
      "+--------------------+\n",
      "only showing top 20 rows\n",
      "\n"
     ]
    }
   ],
   "source": [
    "#movies.select('genres').map(lambda x: x[0].split('|')) ????? does not work\n",
    "movies.select('genres').distinct().show()"
   ]
  },
  {
   "cell_type": "markdown",
   "metadata": {},
   "source": [
    "### Q5: Movie for Each Category"
   ]
  },
  {
   "cell_type": "code",
   "execution_count": 18,
   "metadata": {},
   "outputs": [
    {
     "name": "stdout",
     "output_type": "stream",
     "text": [
      "+--------------------+-----+\n",
      "|              genres|count|\n",
      "+--------------------+-----+\n",
      "|               Drama| 1170|\n",
      "|              Comedy|  809|\n",
      "|        Comedy|Drama|  425|\n",
      "|         Documentary|  365|\n",
      "|       Drama|Romance|  356|\n",
      "|      Comedy|Romance|  341|\n",
      "|Comedy|Drama|Romance|  264|\n",
      "|              Horror|  183|\n",
      "|      Drama|Thriller|  172|\n",
      "|         Crime|Drama|  135|\n",
      "|Crime|Drama|Thriller|  116|\n",
      "|     Horror|Thriller|  112|\n",
      "|           Drama|War|  107|\n",
      "|        Comedy|Crime|   77|\n",
      "|            Thriller|   74|\n",
      "|       Action|Comedy|   67|\n",
      "|     Children|Comedy|   64|\n",
      "|     Action|Thriller|   57|\n",
      "|       Comedy|Horror|   57|\n",
      "|Action|Crime|Thri...|   53|\n",
      "+--------------------+-----+\n",
      "only showing top 20 rows\n",
      "\n"
     ]
    }
   ],
   "source": [
    "movies.groupby(\"genres\").count().orderBy(\"count\", ascending=False).show()"
   ]
  },
  {
   "cell_type": "markdown",
   "metadata": {},
   "source": [
    "## Prepare Data for Training\n",
    "We will use an RDD-based API from [pyspark.mllib](https://spark.apache.org/docs/2.1.1/mllib-collaborative-filtering.html) to predict the ratings, so let's reload \"ratings.csv\" using ``sc.textFile`` and then convert it to the form of (user, item, rating) tuples."
   ]
  },
  {
   "cell_type": "code",
   "execution_count": 19,
   "metadata": {
    "collapsed": true
   },
   "outputs": [],
   "source": [
    "from pyspark.mllib.recommendation import ALS"
   ]
  },
  {
   "cell_type": "code",
   "execution_count": 20,
   "metadata": {
    "collapsed": true
   },
   "outputs": [],
   "source": [
    "movie_rating = sc.textFile(\"ml-latest-small/ratings.csv\")"
   ]
  },
  {
   "cell_type": "code",
   "execution_count": 21,
   "metadata": {
    "collapsed": true
   },
   "outputs": [],
   "source": [
    "header = movie_rating.take(1)[0]\n",
    "rating_data = movie_rating.filter(lambda line: line!=header).map(lambda line: line.split(\",\")).map(lambda tokens: (tokens[0],tokens[1],tokens[2])).cache()"
   ]
  },
  {
   "cell_type": "code",
   "execution_count": 22,
   "metadata": {},
   "outputs": [
    {
     "data": {
      "text/plain": [
       "[(u'1', u'31', u'2.5'), (u'1', u'1029', u'3.0'), (u'1', u'1061', u'3.0')]"
      ]
     },
     "execution_count": 22,
     "metadata": {},
     "output_type": "execute_result"
    }
   ],
   "source": [
    "# check three rows\n",
    "rating_data.take(3)"
   ]
  },
  {
   "cell_type": "markdown",
   "metadata": {},
   "source": [
    "Now we split the data into training/validation/testing sets using a 6/2/2 ratio."
   ]
  },
  {
   "cell_type": "code",
   "execution_count": 23,
   "metadata": {
    "collapsed": true
   },
   "outputs": [],
   "source": [
    "train, validation, test = rating_data.randomSplit([6,2,2],seed = 7856)"
   ]
  },
  {
   "cell_type": "code",
   "execution_count": 24,
   "metadata": {},
   "outputs": [
    {
     "data": {
      "text/plain": [
       "PythonRDD[145] at RDD at PythonRDD.scala:48"
      ]
     },
     "execution_count": 24,
     "metadata": {},
     "output_type": "execute_result"
    }
   ],
   "source": [
    "train.cache()"
   ]
  },
  {
   "cell_type": "code",
   "execution_count": 25,
   "metadata": {},
   "outputs": [
    {
     "data": {
      "text/plain": [
       "PythonRDD[146] at RDD at PythonRDD.scala:48"
      ]
     },
     "execution_count": 25,
     "metadata": {},
     "output_type": "execute_result"
    }
   ],
   "source": [
    "validation.cache()"
   ]
  },
  {
   "cell_type": "code",
   "execution_count": 26,
   "metadata": {},
   "outputs": [
    {
     "data": {
      "text/plain": [
       "PythonRDD[147] at RDD at PythonRDD.scala:48"
      ]
     },
     "execution_count": 26,
     "metadata": {},
     "output_type": "execute_result"
    }
   ],
   "source": [
    "test.cache()"
   ]
  },
  {
   "cell_type": "markdown",
   "metadata": {},
   "source": [
    "## ALS Model Selection and Evaluation\n",
    "\n",
    "With the ALS model, we can use a grid search to find the optimal hyperparameters."
   ]
  },
  {
   "cell_type": "code",
   "execution_count": 27,
   "metadata": {
    "collapsed": true
   },
   "outputs": [],
   "source": [
    "def train_ALS(train_data, validation_data, num_iters, reg_param, ranks):\n",
    "    min_error = float('inf')\n",
    "    best_rank = -1\n",
    "    best_regularization = 0\n",
    "    best_model = None\n",
    "    for rank in ranks:\n",
    "        for reg in reg_param:\n",
    "            model = ALS.train(train_data, rank, iterations = num_iters, lambda_ = reg)\n",
    "            predictions = model.predictAll(validation_data.map(lambda x: (x[0], x[1])))\n",
    "            predictions = predictions.map(lambda x: ((x[0], x[1]), x[2]))\n",
    "            rate_and_preds = validation_data.map(lambda x: ((int(x[0]), int(x[1])), float(x[2]))).join(predictions)\n",
    "            error = math.sqrt(rate_and_preds.map(lambda r: (r[1][0] - r[1][1])**2).mean())\n",
    "            print ('{} latent factors and regularization = {}: validation RMSE is {}'.format(rank, reg, error))\n",
    "            if error < min_error:\n",
    "                min_error = error\n",
    "                best_rank = rank\n",
    "                best_regularization = reg\n",
    "                best_model = model\n",
    "    print ('\\nThe best model has {} latent factors and regularization = {}'.format(best_rank, best_regularization))\n",
    "    return best_model"
   ]
  },
  {
   "cell_type": "code",
   "execution_count": 28,
   "metadata": {
    "scrolled": true
   },
   "outputs": [
    {
     "name": "stdout",
     "output_type": "stream",
     "text": [
      "6 latent factors and regularization = 0.05: validation RMSE is 1.02626816494\n",
      "6 latent factors and regularization = 0.1: validation RMSE is 0.961602243133\n",
      "6 latent factors and regularization = 0.2: validation RMSE is 0.936497170862\n",
      "6 latent factors and regularization = 0.4: validation RMSE is 0.998667071794\n",
      "6 latent factors and regularization = 0.8: validation RMSE is 1.21438754938\n",
      "8 latent factors and regularization = 0.05: validation RMSE is 1.0432398947\n",
      "8 latent factors and regularization = 0.1: validation RMSE is 0.965824665149\n",
      "8 latent factors and regularization = 0.2: validation RMSE is 0.936953580924\n",
      "8 latent factors and regularization = 0.4: validation RMSE is 0.998318816477\n",
      "8 latent factors and regularization = 0.8: validation RMSE is 1.21439628653\n",
      "10 latent factors and regularization = 0.05: validation RMSE is 1.04780376242\n",
      "10 latent factors and regularization = 0.1: validation RMSE is 0.967662682654\n",
      "10 latent factors and regularization = 0.2: validation RMSE is 0.93567116546\n",
      "10 latent factors and regularization = 0.4: validation RMSE is 0.998682975361\n",
      "10 latent factors and regularization = 0.8: validation RMSE is 1.21438645297\n",
      "12 latent factors and regularization = 0.05: validation RMSE is 1.05841981169\n",
      "12 latent factors and regularization = 0.1: validation RMSE is 0.96352088427\n",
      "12 latent factors and regularization = 0.2: validation RMSE is 0.937714719016\n",
      "12 latent factors and regularization = 0.4: validation RMSE is 0.998607594682\n",
      "12 latent factors and regularization = 0.8: validation RMSE is 1.21438726943\n",
      "14 latent factors and regularization = 0.05: validation RMSE is 1.05235131193\n",
      "14 latent factors and regularization = 0.1: validation RMSE is 0.960729256363\n",
      "14 latent factors and regularization = 0.2: validation RMSE is 0.937611769301\n",
      "14 latent factors and regularization = 0.4: validation RMSE is 0.998500156934\n",
      "14 latent factors and regularization = 0.8: validation RMSE is 1.21438664717\n",
      "\n",
      "The best model has 10 latent factors and regularization = 0.2\n",
      "Total Runtime: 58.89 seconds\n"
     ]
    }
   ],
   "source": [
    "num_iterations = 10\n",
    "ranks = [6, 8, 10, 12, 14]\n",
    "reg_params = [0.05, 0.1, 0.2, 0.4, 0.8]\n",
    "\n",
    "import time\n",
    "start_time = time.time()\n",
    "\n",
    "final_model = train_ALS(train, validation, num_iterations, reg_params, ranks)\n",
    "\n",
    "print ('Total Runtime: {:.2f} seconds'.format(time.time() - start_time))"
   ]
  },
  {
   "cell_type": "markdown",
   "metadata": {},
   "source": [
    "The model with 10 latent factors and lambda = 0.2 yields the best result. Let's plot the learning curves for this model."
   ]
  },
  {
   "cell_type": "code",
   "execution_count": 29,
   "metadata": {
    "collapsed": true
   },
   "outputs": [],
   "source": [
    "# Is there a smarter way to plot the learning curves without re-training\n",
    "# the model repeatedly...?\n",
    "def plot_learning_curve(iter_array, train_data, validation_data, reg, rank):\n",
    "    \n",
    "    train_rmse = []\n",
    "    valid_rmse = []\n",
    "    for num_iters in iter_array:\n",
    "        \n",
    "        model = ALS.train(train_data, rank, iterations = num_iters, lambda_ = reg)\n",
    "        \n",
    "        predictions = model.predictAll(validation_data.map(lambda x: (x[0], x[1])))\n",
    "        predictions = predictions.map(lambda x: ((x[0], x[1]), x[2]))\n",
    "        rate_and_preds = validation_data.map(lambda x: ((int(x[0]), int(x[1])), float(x[2]))).join(predictions)\n",
    "        error = math.sqrt(rate_and_preds.map(lambda r: (r[1][0] - r[1][1])**2).mean())\n",
    "        valid_rmse.append(error)\n",
    "        \n",
    "        predictions = model.predictAll(train_data.map(lambda x: (x[0], x[1])))\n",
    "        predictions = predictions.map(lambda x: ((x[0], x[1]), x[2]))\n",
    "        rate_and_preds = train_data.map(lambda x: ((int(x[0]), int(x[1])), float(x[2]))).join(predictions)\n",
    "        error = math.sqrt(rate_and_preds.map(lambda r: (r[1][0] - r[1][1])**2).mean())\n",
    "        train_rmse.append(error)\n",
    "        \n",
    "    plt.plot(iter_array, train_rmse, label='Training', linewidth=5)\n",
    "    plt.plot(iter_array, valid_rmse, label='Validation', linewidth=5)\n",
    "    plt.xticks(range(0, max(iter_array) + 1, 2), fontsize=16)\n",
    "    plt.yticks(fontsize=16)\n",
    "    plt.xlabel('iterations', fontsize=30)\n",
    "    plt.ylabel('RMSE', fontsize=30)\n",
    "    plt.legend(loc='best', fontsize=20) \n",
    "    plt.show()"
   ]
  },
  {
   "cell_type": "code",
   "execution_count": 30,
   "metadata": {},
   "outputs": [
    {
     "data": {
      "image/png": "[encoded data removed]",
      "text/plain": [
       "<matplotlib.figure.Figure at 0x1084333d0>"
      ]
     },
     "metadata": {},
     "output_type": "display_data"
    }
   ],
   "source": [
    "iter_array = [1, 2, 5, 10]\n",
    "plot_learning_curve(iter_array, train, validation, 0.2, 10)"
   ]
  },
  {
   "cell_type": "markdown",
   "metadata": {},
   "source": [
    "And finally, let's check the testing error."
   ]
  },
  {
   "cell_type": "code",
   "execution_count": 31,
   "metadata": {},
   "outputs": [
    {
     "name": "stdout",
     "output_type": "stream",
     "text": [
      "For testing data the RMSE is 0.907534155509\n"
     ]
    }
   ],
   "source": [
    "predictions = final_model.predictAll(test.map(lambda x: (x[0], x[1]))) \n",
    "predictions = predictions.map(lambda x: ((x[0], x[1]), x[2]))\n",
    "rates_and_preds = test.map(lambda r: ((int(r[0]), int(r[1])), float(r[2]))).join(predictions)\n",
    "error = math.sqrt(rates_and_preds.map(lambda r: (r[1][0] - r[1][1])**2).mean())\n",
    "print ('For testing data the RMSE is %s' % (error))"
   ]
  },
  {
   "cell_type": "markdown",
   "metadata": {
    "collapsed": true
   },
   "source": [
    "This is slightly better than the validation error (0.936)."
   ]
  },
  {
   "cell_type": "code",
   "execution_count": null,
   "metadata": {
    "collapsed": true
   },
   "outputs": [],
   "source": []
  }
 ],
 "metadata": {
  "kernelspec": {
   "display_name": "Python 3",
   "language": "python",
   "name": "python3"
  },
  "language_info": {
   "codemirror_mode": {
    "name": "ipython",
    "version": 3
   },
   "file_extension": ".py",
   "mimetype": "text/x-python",
   "name": "python",
   "nbconvert_exporter": "python",
   "pygments_lexer": "ipython3",
   "version": "3.7.3"
  }
 },
 "nbformat": 4,
 "nbformat_minor": 2
}
